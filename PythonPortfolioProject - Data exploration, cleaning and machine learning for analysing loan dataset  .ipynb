{
 "cells": [
  {
   "cell_type": "markdown",
   "id": "e6a1b78c",
   "metadata": {},
   "source": [
    "##This dataset is sourced from Kaggle (https://www.kaggle.com/datasets/ninzaami/loan-predication). \n",
    "\n",
    "A given dataset contains loan application information. Analyse this dataset to assist lender to explore, visualise and automate the loan eligibility process based on the information provided by applicants. Lastly, applying the machine learning to identify the key risk drivers for the final loan approval results\n",
    "\n",
    "Columns of dataframe \n",
    "1.Loan_Id:Unique Loan ID\n",
    "2.Gender:Male/ Female\n",
    "3.Married:Applicant married (Y/N)\n",
    "4.Dependents:Number of dependents\n",
    "5.Education:Applicant Education (Graduate/ Under Graduate)\n",
    "6.Self_Employed:Self employed (Y/N)\n",
    "7.ApplicantIncome:Applicant income\n",
    "8.CoapplicantIncome:Co-applicant income\n",
    "9.LoanAmount:Loan amount in thousands\n",
    "10.Loan_Amount_Term:loan terms in months\n",
    "11.Credit_History:- credit history meets policy (1= meet the policy, 2= not meet policy)\n",
    "12.Property_Area:- Urban/ Semi Urban/ Rural locations\n",
    "13.Loan_Status:- Loan approved (Y/N)\n",
    "\n",
    "##Table of Content\n",
    "\n",
    "Sec 1) Data exploration, visualisation and analysis\n",
    "Sec 2) Data filtering and cleaning (pre-processing for modelling purpose)\n",
    "Sec 3) Machine learning by logistic regression, K-NearestNeighbor, decision tree, random forest and Support Vector Classifier\n",
    "Sec 4) Review, compare and select the best model(s)\n",
    "Sec 5) Identify the most importance feature(s) for the best model(s)"
   ]
  },
  {
   "cell_type": "code",
   "execution_count": 1,
   "id": "eaddbb37",
   "metadata": {},
   "outputs": [],
   "source": [
    "import pandas as pd\n",
    "import numpy as np\n",
    "import matplotlib.pyplot as plt\n",
    "import seaborn as sns\n",
    "%matplotlib inline"
   ]
  },
  {
   "cell_type": "code",
   "execution_count": 2,
   "id": "642432f3",
   "metadata": {},
   "outputs": [],
   "source": [
    "df=pd.read_csv(\"loan_app_data.csv\")"
   ]
  },
  {
   "cell_type": "markdown",
   "id": "4106827f",
   "metadata": {},
   "source": [
    "Section 1: Data exploration, visualisation and analysis"
   ]
  },
  {
   "cell_type": "code",
   "execution_count": 3,
   "id": "6f4da162",
   "metadata": {},
   "outputs": [
    {
     "data": {
      "text/html": [
       "<div>\n",
       "<style scoped>\n",
       "    .dataframe tbody tr th:only-of-type {\n",
       "        vertical-align: middle;\n",
       "    }\n",
       "\n",
       "    .dataframe tbody tr th {\n",
       "        vertical-align: top;\n",
       "    }\n",
       "\n",
       "    .dataframe thead th {\n",
       "        text-align: right;\n",
       "    }\n",
       "</style>\n",
       "<table border=\"1\" class=\"dataframe\">\n",
       "  <thead>\n",
       "    <tr style=\"text-align: right;\">\n",
       "      <th></th>\n",
       "      <th>Loan_ID</th>\n",
       "      <th>Gender</th>\n",
       "      <th>Married</th>\n",
       "      <th>Dependents</th>\n",
       "      <th>Education</th>\n",
       "      <th>Self_Employed</th>\n",
       "      <th>ApplicantIncome</th>\n",
       "      <th>CoapplicantIncome</th>\n",
       "      <th>LoanAmount</th>\n",
       "      <th>Loan_Amount_Term</th>\n",
       "      <th>Credit_History</th>\n",
       "      <th>Property_Area</th>\n",
       "      <th>Loan_Status</th>\n",
       "    </tr>\n",
       "  </thead>\n",
       "  <tbody>\n",
       "    <tr>\n",
       "      <th>0</th>\n",
       "      <td>LP001002</td>\n",
       "      <td>Male</td>\n",
       "      <td>No</td>\n",
       "      <td>0</td>\n",
       "      <td>Graduate</td>\n",
       "      <td>No</td>\n",
       "      <td>5849</td>\n",
       "      <td>0.0</td>\n",
       "      <td>NaN</td>\n",
       "      <td>360.0</td>\n",
       "      <td>1.0</td>\n",
       "      <td>Urban</td>\n",
       "      <td>Y</td>\n",
       "    </tr>\n",
       "    <tr>\n",
       "      <th>1</th>\n",
       "      <td>LP001003</td>\n",
       "      <td>Male</td>\n",
       "      <td>Yes</td>\n",
       "      <td>1</td>\n",
       "      <td>Graduate</td>\n",
       "      <td>No</td>\n",
       "      <td>4583</td>\n",
       "      <td>1508.0</td>\n",
       "      <td>128.0</td>\n",
       "      <td>360.0</td>\n",
       "      <td>1.0</td>\n",
       "      <td>Rural</td>\n",
       "      <td>N</td>\n",
       "    </tr>\n",
       "    <tr>\n",
       "      <th>2</th>\n",
       "      <td>LP001005</td>\n",
       "      <td>Male</td>\n",
       "      <td>Yes</td>\n",
       "      <td>0</td>\n",
       "      <td>Graduate</td>\n",
       "      <td>Yes</td>\n",
       "      <td>3000</td>\n",
       "      <td>0.0</td>\n",
       "      <td>66.0</td>\n",
       "      <td>360.0</td>\n",
       "      <td>1.0</td>\n",
       "      <td>Urban</td>\n",
       "      <td>Y</td>\n",
       "    </tr>\n",
       "    <tr>\n",
       "      <th>3</th>\n",
       "      <td>LP001006</td>\n",
       "      <td>Male</td>\n",
       "      <td>Yes</td>\n",
       "      <td>0</td>\n",
       "      <td>Not Graduate</td>\n",
       "      <td>No</td>\n",
       "      <td>2583</td>\n",
       "      <td>2358.0</td>\n",
       "      <td>120.0</td>\n",
       "      <td>360.0</td>\n",
       "      <td>1.0</td>\n",
       "      <td>Urban</td>\n",
       "      <td>Y</td>\n",
       "    </tr>\n",
       "    <tr>\n",
       "      <th>4</th>\n",
       "      <td>LP001008</td>\n",
       "      <td>Male</td>\n",
       "      <td>No</td>\n",
       "      <td>0</td>\n",
       "      <td>Graduate</td>\n",
       "      <td>No</td>\n",
       "      <td>6000</td>\n",
       "      <td>0.0</td>\n",
       "      <td>141.0</td>\n",
       "      <td>360.0</td>\n",
       "      <td>1.0</td>\n",
       "      <td>Urban</td>\n",
       "      <td>Y</td>\n",
       "    </tr>\n",
       "  </tbody>\n",
       "</table>\n",
       "</div>"
      ],
      "text/plain": [
       "    Loan_ID Gender Married Dependents     Education Self_Employed  \\\n",
       "0  LP001002   Male      No          0      Graduate            No   \n",
       "1  LP001003   Male     Yes          1      Graduate            No   \n",
       "2  LP001005   Male     Yes          0      Graduate           Yes   \n",
       "3  LP001006   Male     Yes          0  Not Graduate            No   \n",
       "4  LP001008   Male      No          0      Graduate            No   \n",
       "\n",
       "   ApplicantIncome  CoapplicantIncome  LoanAmount  Loan_Amount_Term  \\\n",
       "0             5849                0.0         NaN             360.0   \n",
       "1             4583             1508.0       128.0             360.0   \n",
       "2             3000                0.0        66.0             360.0   \n",
       "3             2583             2358.0       120.0             360.0   \n",
       "4             6000                0.0       141.0             360.0   \n",
       "\n",
       "   Credit_History Property_Area Loan_Status  \n",
       "0             1.0         Urban           Y  \n",
       "1             1.0         Rural           N  \n",
       "2             1.0         Urban           Y  \n",
       "3             1.0         Urban           Y  \n",
       "4             1.0         Urban           Y  "
      ]
     },
     "execution_count": 3,
     "metadata": {},
     "output_type": "execute_result"
    }
   ],
   "source": [
    "df.head()"
   ]
  },
  {
   "cell_type": "code",
   "execution_count": 4,
   "id": "0b653cce",
   "metadata": {},
   "outputs": [
    {
     "name": "stdout",
     "output_type": "stream",
     "text": [
      "<class 'pandas.core.frame.DataFrame'>\n",
      "RangeIndex: 614 entries, 0 to 613\n",
      "Data columns (total 13 columns):\n",
      " #   Column             Non-Null Count  Dtype  \n",
      "---  ------             --------------  -----  \n",
      " 0   Loan_ID            614 non-null    object \n",
      " 1   Gender             601 non-null    object \n",
      " 2   Married            611 non-null    object \n",
      " 3   Dependents         599 non-null    object \n",
      " 4   Education          614 non-null    object \n",
      " 5   Self_Employed      582 non-null    object \n",
      " 6   ApplicantIncome    614 non-null    int64  \n",
      " 7   CoapplicantIncome  614 non-null    float64\n",
      " 8   LoanAmount         592 non-null    float64\n",
      " 9   Loan_Amount_Term   600 non-null    float64\n",
      " 10  Credit_History     564 non-null    float64\n",
      " 11  Property_Area      614 non-null    object \n",
      " 12  Loan_Status        614 non-null    object \n",
      "dtypes: float64(4), int64(1), object(8)\n",
      "memory usage: 62.5+ KB\n"
     ]
    }
   ],
   "source": [
    "df.info()"
   ]
  },
  {
   "cell_type": "markdown",
   "id": "fc62a6ac",
   "metadata": {},
   "source": [
    "Observations: 1)Missing info in Gender, Married,Dependents,Self_employed,LoanAmount,Loan_Amout_Term and Credit_History since row numbers are less than 614 entries. 2)ApplicantIncome,CoapplicantIncome,LoanAmount,Loan_Amout_Term and Credit_History are int/float type while others are str type 3)Loan_ID column can be droped later since not useful for analysis/modelling purpose."
   ]
  },
  {
   "cell_type": "code",
   "execution_count": 5,
   "id": "b6f5a51b",
   "metadata": {},
   "outputs": [
    {
     "data": {
      "text/html": [
       "<div>\n",
       "<style scoped>\n",
       "    .dataframe tbody tr th:only-of-type {\n",
       "        vertical-align: middle;\n",
       "    }\n",
       "\n",
       "    .dataframe tbody tr th {\n",
       "        vertical-align: top;\n",
       "    }\n",
       "\n",
       "    .dataframe thead th {\n",
       "        text-align: right;\n",
       "    }\n",
       "</style>\n",
       "<table border=\"1\" class=\"dataframe\">\n",
       "  <thead>\n",
       "    <tr style=\"text-align: right;\">\n",
       "      <th></th>\n",
       "      <th>ApplicantIncome</th>\n",
       "      <th>CoapplicantIncome</th>\n",
       "      <th>LoanAmount</th>\n",
       "      <th>Loan_Amount_Term</th>\n",
       "      <th>Credit_History</th>\n",
       "    </tr>\n",
       "  </thead>\n",
       "  <tbody>\n",
       "    <tr>\n",
       "      <th>count</th>\n",
       "      <td>614.000000</td>\n",
       "      <td>614.000000</td>\n",
       "      <td>592.000000</td>\n",
       "      <td>600.00000</td>\n",
       "      <td>564.000000</td>\n",
       "    </tr>\n",
       "    <tr>\n",
       "      <th>mean</th>\n",
       "      <td>5403.459283</td>\n",
       "      <td>1621.245798</td>\n",
       "      <td>146.412162</td>\n",
       "      <td>342.00000</td>\n",
       "      <td>0.842199</td>\n",
       "    </tr>\n",
       "    <tr>\n",
       "      <th>std</th>\n",
       "      <td>6109.041673</td>\n",
       "      <td>2926.248369</td>\n",
       "      <td>85.587325</td>\n",
       "      <td>65.12041</td>\n",
       "      <td>0.364878</td>\n",
       "    </tr>\n",
       "    <tr>\n",
       "      <th>min</th>\n",
       "      <td>150.000000</td>\n",
       "      <td>0.000000</td>\n",
       "      <td>9.000000</td>\n",
       "      <td>12.00000</td>\n",
       "      <td>0.000000</td>\n",
       "    </tr>\n",
       "    <tr>\n",
       "      <th>25%</th>\n",
       "      <td>2877.500000</td>\n",
       "      <td>0.000000</td>\n",
       "      <td>100.000000</td>\n",
       "      <td>360.00000</td>\n",
       "      <td>1.000000</td>\n",
       "    </tr>\n",
       "    <tr>\n",
       "      <th>50%</th>\n",
       "      <td>3812.500000</td>\n",
       "      <td>1188.500000</td>\n",
       "      <td>128.000000</td>\n",
       "      <td>360.00000</td>\n",
       "      <td>1.000000</td>\n",
       "    </tr>\n",
       "    <tr>\n",
       "      <th>75%</th>\n",
       "      <td>5795.000000</td>\n",
       "      <td>2297.250000</td>\n",
       "      <td>168.000000</td>\n",
       "      <td>360.00000</td>\n",
       "      <td>1.000000</td>\n",
       "    </tr>\n",
       "    <tr>\n",
       "      <th>max</th>\n",
       "      <td>81000.000000</td>\n",
       "      <td>41667.000000</td>\n",
       "      <td>700.000000</td>\n",
       "      <td>480.00000</td>\n",
       "      <td>1.000000</td>\n",
       "    </tr>\n",
       "  </tbody>\n",
       "</table>\n",
       "</div>"
      ],
      "text/plain": [
       "       ApplicantIncome  CoapplicantIncome  LoanAmount  Loan_Amount_Term  \\\n",
       "count       614.000000         614.000000  592.000000         600.00000   \n",
       "mean       5403.459283        1621.245798  146.412162         342.00000   \n",
       "std        6109.041673        2926.248369   85.587325          65.12041   \n",
       "min         150.000000           0.000000    9.000000          12.00000   \n",
       "25%        2877.500000           0.000000  100.000000         360.00000   \n",
       "50%        3812.500000        1188.500000  128.000000         360.00000   \n",
       "75%        5795.000000        2297.250000  168.000000         360.00000   \n",
       "max       81000.000000       41667.000000  700.000000         480.00000   \n",
       "\n",
       "       Credit_History  \n",
       "count      564.000000  \n",
       "mean         0.842199  \n",
       "std          0.364878  \n",
       "min          0.000000  \n",
       "25%          1.000000  \n",
       "50%          1.000000  \n",
       "75%          1.000000  \n",
       "max          1.000000  "
      ]
     },
     "execution_count": 5,
     "metadata": {},
     "output_type": "execute_result"
    }
   ],
   "source": [
    "df.describe()"
   ]
  },
  {
   "cell_type": "markdown",
   "id": "1286f1d7",
   "metadata": {},
   "source": [
    "Observations: 1)Outliers are present in ApplicantIncome, CoapplicantIncome and LoanAmount columns since max are highly deviated from the mean and quartiles , should be handled during pre-processing stage. 2)Loan terms are mostly 360 days, with max 480 days"
   ]
  },
  {
   "cell_type": "code",
   "execution_count": 6,
   "id": "1b750a1e",
   "metadata": {},
   "outputs": [
    {
     "data": {
      "text/plain": [
       "Loan_ID               0\n",
       "Gender               13\n",
       "Married               3\n",
       "Dependents           15\n",
       "Education             0\n",
       "Self_Employed        32\n",
       "ApplicantIncome       0\n",
       "CoapplicantIncome     0\n",
       "LoanAmount           22\n",
       "Loan_Amount_Term     14\n",
       "Credit_History       50\n",
       "Property_Area         0\n",
       "Loan_Status           0\n",
       "dtype: int64"
      ]
     },
     "execution_count": 6,
     "metadata": {},
     "output_type": "execute_result"
    }
   ],
   "source": [
    "#Check the number of null in columns again \n",
    "df.isnull().sum()"
   ]
  },
  {
   "cell_type": "code",
   "execution_count": 7,
   "id": "fc599f1e",
   "metadata": {},
   "outputs": [
    {
     "data": {
      "text/plain": [
       "<seaborn.axisgrid.PairGrid at 0x1eccc2b6520>"
      ]
     },
     "execution_count": 7,
     "metadata": {},
     "output_type": "execute_result"
    },
    {
     "data": {
      "image/png": "[encoded data removed]",
      "text/plain": [
       "<Figure size 968.625x900 with 30 Axes>"
      ]
     },
     "metadata": {
      "needs_background": "light"
     },
     "output_type": "display_data"
    }
   ],
   "source": [
    "#display the relationship between each numerical columns, highlighted by \"Loan_Status\"\n",
    "sns.pairplot(df,hue=\"Loan_Status\")"
   ]
  },
  {
   "cell_type": "markdown",
   "id": "cba316c9",
   "metadata": {},
   "source": [
    "Observations: 1)ApplicantIncome, CoapplicantIncome and LoanAmout are right skewed, outlier removal reuqired as previously addressed. 2)However,outliers also indicate postive relationship between LoanAmount and ApplicantIncome&CoapplicantIncome 3)Credit_History is highly correlated with Loan_Status"
   ]
  },
  {
   "cell_type": "code",
   "execution_count": 8,
   "id": "c5c38cb1",
   "metadata": {},
   "outputs": [
    {
     "data": {
      "text/plain": [
       "<AxesSubplot:xlabel='Married', ylabel='count'>"
      ]
     },
     "execution_count": 8,
     "metadata": {},
     "output_type": "execute_result"
    },
    {
     "data": {
      "text/plain": [
       "<Figure size 720x576 with 0 Axes>"
      ]
     },
     "metadata": {},
     "output_type": "display_data"
    },
    {
     "data": {
      "image/png": "[encoded data removed]",
      "text/plain": [
       "<Figure size 432x288 with 2 Axes>"
      ]
     },
     "metadata": {
      "needs_background": "light"
     },
     "output_type": "display_data"
    }
   ],
   "source": [
    "plt.figure(figsize=(10,8))\n",
    "fig, ax =plt.subplots(1,2)\n",
    "sns.countplot(x='Gender',data=df, ax=ax[0])\n",
    "sns.countplot(x='Married',data=df,ax=ax[1])"
   ]
  },
  {
   "cell_type": "markdown",
   "id": "c5de959a",
   "metadata": {},
   "source": [
    "Observations 1)Male applicants are 4 times greater than female applicants. 2)Married applicants are about 80% more than not-married applicants."
   ]
  },
  {
   "cell_type": "code",
   "execution_count": 9,
   "id": "55e2c8d1",
   "metadata": {},
   "outputs": [
    {
     "data": {
      "text/plain": [
       "<AxesSubplot:xlabel='Property_Area', ylabel='count'>"
      ]
     },
     "execution_count": 9,
     "metadata": {},
     "output_type": "execute_result"
    },
    {
     "data": {
      "text/plain": [
       "<Figure size 720x576 with 0 Axes>"
      ]
     },
     "metadata": {},
     "output_type": "display_data"
    },
    {
     "data": {
      "image/png": "[encoded data removed]",
      "text/plain": [
       "<Figure size 432x288 with 2 Axes>"
      ]
     },
     "metadata": {
      "needs_background": "light"
     },
     "output_type": "display_data"
    }
   ],
   "source": [
    "plt.figure(figsize=(10,8))\n",
    "fig, ax =plt.subplots(1,2)\n",
    "sns.countplot(x='Education',data=df,ax=ax[0])\n",
    "sns.countplot(x='Property_Area',data=df,ax=ax[1])"
   ]
  },
  {
   "cell_type": "markdown",
   "id": "95a09980",
   "metadata": {},
   "source": [
    "Observations 1)Graduate applicants are 3 times greater than not-graduare applicants 2)Most applicants live in semiurban area, followed by urban area, last one is rural area. But not so much difference."
   ]
  },
  {
   "cell_type": "code",
   "execution_count": 10,
   "id": "9b6b7ef6",
   "metadata": {},
   "outputs": [
    {
     "data": {
      "text/plain": [
       "<AxesSubplot:xlabel='LoanAmount', ylabel='Count'>"
      ]
     },
     "execution_count": 10,
     "metadata": {},
     "output_type": "execute_result"
    },
    {
     "data": {
      "image/png": "[encoded data removed]",
      "text/plain": [
       "<Figure size 576x432 with 1 Axes>"
      ]
     },
     "metadata": {
      "needs_background": "light"
     },
     "output_type": "display_data"
    }
   ],
   "source": [
    "plt.figure(figsize=(8,6))\n",
    "sns.histplot(df['LoanAmount'],kde=True)"
   ]
  },
  {
   "cell_type": "markdown",
   "id": "15e3033b",
   "metadata": {},
   "source": [
    "Observation: 1)A clear right skewed for loan amount 2)Outlier value is present."
   ]
  },
  {
   "cell_type": "code",
   "execution_count": 11,
   "id": "d8cb94ec",
   "metadata": {},
   "outputs": [
    {
     "data": {
      "text/plain": [
       "<AxesSubplot:xlabel='ApplicantIncome', ylabel='Count'>"
      ]
     },
     "execution_count": 11,
     "metadata": {},
     "output_type": "execute_result"
    },
    {
     "data": {
      "image/png": "[encoded data removed]",
      "text/plain": [
       "<Figure size 576x432 with 1 Axes>"
      ]
     },
     "metadata": {
      "needs_background": "light"
     },
     "output_type": "display_data"
    }
   ],
   "source": [
    "plt.figure(figsize=(8,6))\n",
    "sns.histplot(df['ApplicantIncome'],kde=True)"
   ]
  },
  {
   "cell_type": "markdown",
   "id": "a90d5dc5",
   "metadata": {},
   "source": [
    "Observation: 1)A clear right skewed for ApplicantIncome 2)Outlier value is present."
   ]
  },
  {
   "cell_type": "code",
   "execution_count": 12,
   "id": "c20a3f6f",
   "metadata": {},
   "outputs": [
    {
     "data": {
      "text/plain": [
       "<AxesSubplot:xlabel='CoapplicantIncome', ylabel='Count'>"
      ]
     },
     "execution_count": 12,
     "metadata": {},
     "output_type": "execute_result"
    },
    {
     "data": {
      "image/png": "[encoded data removed]",
      "text/plain": [
       "<Figure size 576x432 with 1 Axes>"
      ]
     },
     "metadata": {
      "needs_background": "light"
     },
     "output_type": "display_data"
    }
   ],
   "source": [
    "plt.figure(figsize=(8,6))\n",
    "sns.histplot(df['CoapplicantIncome'],kde=True)"
   ]
  },
  {
   "cell_type": "markdown",
   "id": "4d1c72b2",
   "metadata": {},
   "source": [
    "Observation: 1)A clear right skewed for CoapplicantIncome. 2)Outlier value is present. 3)Also noted many co-applicants have no income"
   ]
  },
  {
   "cell_type": "code",
   "execution_count": 13,
   "id": "526ca756",
   "metadata": {},
   "outputs": [
    {
     "data": {
      "text/plain": [
       "<AxesSubplot:xlabel='Gender', ylabel='LoanAmount'>"
      ]
     },
     "execution_count": 13,
     "metadata": {},
     "output_type": "execute_result"
    },
    {
     "data": {
      "image/png": "[encoded data removed]",
      "text/plain": [
       "<Figure size 432x288 with 1 Axes>"
      ]
     },
     "metadata": {
      "needs_background": "light"
     },
     "output_type": "display_data"
    }
   ],
   "source": [
    "sns.scatterplot(x='Gender',y=\"LoanAmount\",data=df,hue=\"Loan_Status\")"
   ]
  },
  {
   "cell_type": "markdown",
   "id": "2fcd014a",
   "metadata": {},
   "source": [
    "Observations 1)Male applicants are greater than female applicants 2)Loan amount is also higher for Male applicants"
   ]
  },
  {
   "cell_type": "code",
   "execution_count": 14,
   "id": "63211d86",
   "metadata": {},
   "outputs": [
    {
     "data": {
      "text/plain": [
       "<seaborn.axisgrid.FacetGrid at 0x1ecd45b01c0>"
      ]
     },
     "execution_count": 14,
     "metadata": {},
     "output_type": "execute_result"
    },
    {
     "data": {
      "image/png": "[encoded data removed]",
      "text/plain": [
       "<Figure size 428.625x360 with 1 Axes>"
      ]
     },
     "metadata": {
      "needs_background": "light"
     },
     "output_type": "display_data"
    }
   ],
   "source": [
    "sns.lmplot(x='ApplicantIncome',y=\"LoanAmount\",data=df,hue=\"Loan_Status\")"
   ]
  },
  {
   "cell_type": "markdown",
   "id": "1a253c43",
   "metadata": {},
   "source": [
    "Observations: 1)Most applicant income are within 25,000 and loan amount are within 400K. 2)However, higher income appears to be correlated with higher loan amount as outliers present above."
   ]
  },
  {
   "cell_type": "code",
   "execution_count": 15,
   "id": "0108c09a",
   "metadata": {},
   "outputs": [
    {
     "data": {
      "text/plain": [
       "<seaborn.axisgrid.FacetGrid at 0x1ecd45e64c0>"
      ]
     },
     "execution_count": 15,
     "metadata": {},
     "output_type": "execute_result"
    },
    {
     "data": {
      "image/png": "[encoded data removed]",
      "text/plain": [
       "<Figure size 428.625x360 with 1 Axes>"
      ]
     },
     "metadata": {
      "needs_background": "light"
     },
     "output_type": "display_data"
    }
   ],
   "source": [
    "sns.lmplot(x='CoapplicantIncome',y=\"LoanAmount\",data=df,hue=\"Loan_Status\")"
   ]
  },
  {
   "cell_type": "markdown",
   "id": "e8d41858",
   "metadata": {},
   "source": [
    "Observations: 1)Most coapplicant income are within 8,000 and loan amount are within 300K 2)However, higher income appears to be correlated with higher loan amount as outliers present above."
   ]
  },
  {
   "cell_type": "code",
   "execution_count": 16,
   "id": "61dc51c1",
   "metadata": {},
   "outputs": [
    {
     "data": {
      "text/plain": [
       "<AxesSubplot:xlabel='Loan_Status', ylabel='count'>"
      ]
     },
     "execution_count": 16,
     "metadata": {},
     "output_type": "execute_result"
    },
    {
     "data": {
      "image/png": "[encoded data removed]",
      "text/plain": [
       "<Figure size 432x288 with 1 Axes>"
      ]
     },
     "metadata": {
      "needs_background": "light"
     },
     "output_type": "display_data"
    }
   ],
   "source": [
    "sns.countplot(x=\"Loan_Status\",hue=\"Credit_History\",data=df)"
   ]
  },
  {
   "cell_type": "markdown",
   "id": "0c203e71",
   "metadata": {},
   "source": [
    "Observations 1)It is clear that loan_Status Approval(Y)is highly correlated with Credit_History 1 (meet bank's credit policy) 2)However, there are few execeptions not meet the credit_history bit still get the loan approval."
   ]
  },
  {
   "cell_type": "markdown",
   "id": "cc8a43d6",
   "metadata": {},
   "source": [
    "Section 2:Data filtering and cleaning (pre-processing for modelling purpose)"
   ]
  },
  {
   "cell_type": "code",
   "execution_count": 17,
   "id": "5fc09a45",
   "metadata": {},
   "outputs": [],
   "source": [
    "df.drop([\"Loan_ID\"],axis=1,inplace=True)# LoanID column not reuqired"
   ]
  },
  {
   "cell_type": "code",
   "execution_count": 18,
   "id": "63906cc7",
   "metadata": {},
   "outputs": [
    {
     "data": {
      "text/plain": [
       "Gender               13\n",
       "Married               3\n",
       "Dependents           15\n",
       "Education             0\n",
       "Self_Employed        32\n",
       "ApplicantIncome       0\n",
       "CoapplicantIncome     0\n",
       "LoanAmount           22\n",
       "Loan_Amount_Term     14\n",
       "Credit_History       50\n",
       "Property_Area         0\n",
       "Loan_Status           0\n",
       "dtype: int64"
      ]
     },
     "execution_count": 18,
     "metadata": {},
     "output_type": "execute_result"
    }
   ],
   "source": [
    "df.isnull().sum() #check null number in each columns"
   ]
  },
  {
   "cell_type": "code",
   "execution_count": 19,
   "id": "053d60ee",
   "metadata": {},
   "outputs": [
    {
     "name": "stdout",
     "output_type": "stream",
     "text": [
      "Male      489\n",
      "Female    112\n",
      "Name: Gender, dtype: int64\n",
      "Yes    398\n",
      "No     213\n",
      "Name: Married, dtype: int64\n",
      "0     345\n",
      "1     102\n",
      "2     101\n",
      "3+     51\n",
      "Name: Dependents, dtype: int64\n",
      "No     500\n",
      "Yes     82\n",
      "Name: Self_Employed, dtype: int64\n",
      "Semiurban    233\n",
      "Urban        202\n",
      "Rural        179\n",
      "Name: Property_Area, dtype: int64\n",
      "Graduate        480\n",
      "Not Graduate    134\n",
      "Name: Education, dtype: int64\n",
      "1.0    475\n",
      "0.0     89\n",
      "Name: Credit_History, dtype: int64\n",
      "Y    422\n",
      "N    192\n",
      "Name: Loan_Status, dtype: int64\n"
     ]
    }
   ],
   "source": [
    "# Check categories in each string column\n",
    "print(df[\"Gender\"].value_counts())\n",
    "print(df[\"Married\"].value_counts())\n",
    "print(df[\"Dependents\"].value_counts())\n",
    "print(df[\"Self_Employed\"].value_counts())\n",
    "print(df[\"Property_Area\"].value_counts())\n",
    "print(df[\"Education\"].value_counts())\n",
    "print(df[\"Credit_History\"].value_counts())\n",
    "print(df[\"Loan_Status\"].value_counts())"
   ]
  },
  {
   "cell_type": "markdown",
   "id": "8522a706",
   "metadata": {},
   "source": [
    "Observation: 1)We will need to increase the sample size for Loan_Status \"N\". Since this is imbalanced dataset between \"Y\" 422 vs \"N\" 192. 2)This is required for have a balanced dataset since we will use model to predict Loan_Status in the last step. 3)The upsampling for Loan_Status \"N\" will be done later."
   ]
  },
  {
   "cell_type": "code",
   "execution_count": 20,
   "id": "0f0fae76",
   "metadata": {},
   "outputs": [],
   "source": [
    "#Fill the null in each column \n",
    "df[\"Gender\"].fillna(df[\"Gender\"].mode()[0],inplace=True) # insert the null by most often gender type in column\n",
    "df[\"Married\"].fillna(df[\"Married\"].mode()[0],inplace=True) # insert the null by most often Married type in column\n",
    "df[\"Dependents\"].fillna(df[\"Dependents\"].mode()[0],inplace=True) # insert the null by most often Dependents type in column\n",
    "df[\"Self_Employed\"].fillna(df[\"Self_Employed\"].mode()[0],inplace=True)# insert the null by most often self_employed type in column\n",
    "df[\"LoanAmount\"].fillna(df[\"LoanAmount\"].mean(),inplace=True)# insert the null by mean value in loan amount column\n",
    "df[\"Loan_Amount_Term\"].fillna(df[\"Loan_Amount_Term\"].mode()[0],inplace=True)# insert the null by most often loan term in column"
   ]
  },
  {
   "cell_type": "code",
   "execution_count": 21,
   "id": "8e7f8d65",
   "metadata": {},
   "outputs": [],
   "source": [
    "#Create function to filling null for Credit_History columns based on Loan_Status since most \"Y\" in Loan_Status has \"1\" Credit_History- shows different method only\n",
    "def impute_ch(cols):\n",
    "    ch = cols[0]\n",
    "    ls = cols[1]\n",
    "    \n",
    "    if pd.isnull(ch):\n",
    "        if ls == 1:\n",
    "            return 1\n",
    "        else:\n",
    "            return 0\n",
    "    else:\n",
    "        return ch"
   ]
  },
  {
   "cell_type": "code",
   "execution_count": 22,
   "id": "e7a102eb",
   "metadata": {},
   "outputs": [],
   "source": [
    "df[\"Credit_History\"] = df[[\"Credit_History\",\"Loan_Status\"]].apply(impute_ch,axis=1)"
   ]
  },
  {
   "cell_type": "code",
   "execution_count": 23,
   "id": "db9737ab",
   "metadata": {},
   "outputs": [
    {
     "data": {
      "text/plain": [
       "Gender               0\n",
       "Married              0\n",
       "Dependents           0\n",
       "Education            0\n",
       "Self_Employed        0\n",
       "ApplicantIncome      0\n",
       "CoapplicantIncome    0\n",
       "LoanAmount           0\n",
       "Loan_Amount_Term     0\n",
       "Credit_History       0\n",
       "Property_Area        0\n",
       "Loan_Status          0\n",
       "dtype: int64"
      ]
     },
     "execution_count": 23,
     "metadata": {},
     "output_type": "execute_result"
    }
   ],
   "source": [
    "df.isnull().sum() #check if there still null in any column"
   ]
  },
  {
   "cell_type": "code",
   "execution_count": 24,
   "id": "3d7ec0b9",
   "metadata": {},
   "outputs": [],
   "source": [
    "#Create dummies for each STR column, will use ger_dummies for Property_Area column since it has 3 categories, and also convert the Depedents column to int/float type since it is str type now   \n",
    "df.replace({'Gender':{\"Male\":1,\"Female\":0}},inplace=True)\n",
    "df.replace({'Married':{\"Yes\":1,\"No\":0}},inplace=True)\n",
    "df.replace({'Dependents':{\"0\":0,\"1\":1,\"2\":2,\"3+\":3}},inplace=True)\n",
    "df.replace({'Self_Employed':{\"No\":0,\"Yes\":1}},inplace=True)\n",
    "df.replace({'Education':{\"Graduate\":1,\"Not Graduate\":0}},inplace=True)\n",
    "df.replace({'Loan_Status':{\"Y\":1,\"N\":0}},inplace=True)"
   ]
  },
  {
   "cell_type": "code",
   "execution_count": 25,
   "id": "4b916478",
   "metadata": {},
   "outputs": [],
   "source": [
    "#use ger_dummies for Property_Area column since it has 3 categories\n",
    "df=pd.get_dummies(data=df,columns=[\"Property_Area\"], drop_first=True)"
   ]
  },
  {
   "cell_type": "code",
   "execution_count": 26,
   "id": "5ea5bcb7",
   "metadata": {},
   "outputs": [
    {
     "data": {
      "text/html": [
       "<div>\n",
       "<style scoped>\n",
       "    .dataframe tbody tr th:only-of-type {\n",
       "        vertical-align: middle;\n",
       "    }\n",
       "\n",
       "    .dataframe tbody tr th {\n",
       "        vertical-align: top;\n",
       "    }\n",
       "\n",
       "    .dataframe thead th {\n",
       "        text-align: right;\n",
       "    }\n",
       "</style>\n",
       "<table border=\"1\" class=\"dataframe\">\n",
       "  <thead>\n",
       "    <tr style=\"text-align: right;\">\n",
       "      <th></th>\n",
       "      <th>Gender</th>\n",
       "      <th>Married</th>\n",
       "      <th>Dependents</th>\n",
       "      <th>Education</th>\n",
       "      <th>Self_Employed</th>\n",
       "      <th>ApplicantIncome</th>\n",
       "      <th>CoapplicantIncome</th>\n",
       "      <th>LoanAmount</th>\n",
       "      <th>Loan_Amount_Term</th>\n",
       "      <th>Credit_History</th>\n",
       "      <th>Loan_Status</th>\n",
       "      <th>Property_Area_Semiurban</th>\n",
       "      <th>Property_Area_Urban</th>\n",
       "    </tr>\n",
       "  </thead>\n",
       "  <tbody>\n",
       "    <tr>\n",
       "      <th>0</th>\n",
       "      <td>1</td>\n",
       "      <td>0</td>\n",
       "      <td>0</td>\n",
       "      <td>1</td>\n",
       "      <td>0</td>\n",
       "      <td>5849</td>\n",
       "      <td>0.0</td>\n",
       "      <td>146.412162</td>\n",
       "      <td>360.0</td>\n",
       "      <td>1.0</td>\n",
       "      <td>1</td>\n",
       "      <td>0</td>\n",
       "      <td>1</td>\n",
       "    </tr>\n",
       "    <tr>\n",
       "      <th>1</th>\n",
       "      <td>1</td>\n",
       "      <td>1</td>\n",
       "      <td>1</td>\n",
       "      <td>1</td>\n",
       "      <td>0</td>\n",
       "      <td>4583</td>\n",
       "      <td>1508.0</td>\n",
       "      <td>128.000000</td>\n",
       "      <td>360.0</td>\n",
       "      <td>1.0</td>\n",
       "      <td>0</td>\n",
       "      <td>0</td>\n",
       "      <td>0</td>\n",
       "    </tr>\n",
       "    <tr>\n",
       "      <th>2</th>\n",
       "      <td>1</td>\n",
       "      <td>1</td>\n",
       "      <td>0</td>\n",
       "      <td>1</td>\n",
       "      <td>1</td>\n",
       "      <td>3000</td>\n",
       "      <td>0.0</td>\n",
       "      <td>66.000000</td>\n",
       "      <td>360.0</td>\n",
       "      <td>1.0</td>\n",
       "      <td>1</td>\n",
       "      <td>0</td>\n",
       "      <td>1</td>\n",
       "    </tr>\n",
       "    <tr>\n",
       "      <th>3</th>\n",
       "      <td>1</td>\n",
       "      <td>1</td>\n",
       "      <td>0</td>\n",
       "      <td>0</td>\n",
       "      <td>0</td>\n",
       "      <td>2583</td>\n",
       "      <td>2358.0</td>\n",
       "      <td>120.000000</td>\n",
       "      <td>360.0</td>\n",
       "      <td>1.0</td>\n",
       "      <td>1</td>\n",
       "      <td>0</td>\n",
       "      <td>1</td>\n",
       "    </tr>\n",
       "    <tr>\n",
       "      <th>4</th>\n",
       "      <td>1</td>\n",
       "      <td>0</td>\n",
       "      <td>0</td>\n",
       "      <td>1</td>\n",
       "      <td>0</td>\n",
       "      <td>6000</td>\n",
       "      <td>0.0</td>\n",
       "      <td>141.000000</td>\n",
       "      <td>360.0</td>\n",
       "      <td>1.0</td>\n",
       "      <td>1</td>\n",
       "      <td>0</td>\n",
       "      <td>1</td>\n",
       "    </tr>\n",
       "  </tbody>\n",
       "</table>\n",
       "</div>"
      ],
      "text/plain": [
       "   Gender  Married  Dependents  Education  Self_Employed  ApplicantIncome  \\\n",
       "0       1        0           0          1              0             5849   \n",
       "1       1        1           1          1              0             4583   \n",
       "2       1        1           0          1              1             3000   \n",
       "3       1        1           0          0              0             2583   \n",
       "4       1        0           0          1              0             6000   \n",
       "\n",
       "   CoapplicantIncome  LoanAmount  Loan_Amount_Term  Credit_History  \\\n",
       "0                0.0  146.412162             360.0             1.0   \n",
       "1             1508.0  128.000000             360.0             1.0   \n",
       "2                0.0   66.000000             360.0             1.0   \n",
       "3             2358.0  120.000000             360.0             1.0   \n",
       "4                0.0  141.000000             360.0             1.0   \n",
       "\n",
       "   Loan_Status  Property_Area_Semiurban  Property_Area_Urban  \n",
       "0            1                        0                    1  \n",
       "1            0                        0                    0  \n",
       "2            1                        0                    1  \n",
       "3            1                        0                    1  \n",
       "4            1                        0                    1  "
      ]
     },
     "execution_count": 26,
     "metadata": {},
     "output_type": "execute_result"
    }
   ],
   "source": [
    "#check all the dataframe again\n",
    "df.head()"
   ]
  },
  {
   "cell_type": "code",
   "execution_count": 27,
   "id": "db3624ec",
   "metadata": {},
   "outputs": [
    {
     "name": "stdout",
     "output_type": "stream",
     "text": [
      "<class 'pandas.core.frame.DataFrame'>\n",
      "RangeIndex: 614 entries, 0 to 613\n",
      "Data columns (total 13 columns):\n",
      " #   Column                   Non-Null Count  Dtype  \n",
      "---  ------                   --------------  -----  \n",
      " 0   Gender                   614 non-null    int64  \n",
      " 1   Married                  614 non-null    int64  \n",
      " 2   Dependents               614 non-null    int64  \n",
      " 3   Education                614 non-null    int64  \n",
      " 4   Self_Employed            614 non-null    int64  \n",
      " 5   ApplicantIncome          614 non-null    int64  \n",
      " 6   CoapplicantIncome        614 non-null    float64\n",
      " 7   LoanAmount               614 non-null    float64\n",
      " 8   Loan_Amount_Term         614 non-null    float64\n",
      " 9   Credit_History           614 non-null    float64\n",
      " 10  Loan_Status              614 non-null    int64  \n",
      " 11  Property_Area_Semiurban  614 non-null    uint8  \n",
      " 12  Property_Area_Urban      614 non-null    uint8  \n",
      "dtypes: float64(4), int64(7), uint8(2)\n",
      "memory usage: 54.1 KB\n"
     ]
    }
   ],
   "source": [
    "df.info()"
   ]
  },
  {
   "cell_type": "markdown",
   "id": "32591a60",
   "metadata": {},
   "source": [
    "Now all columns are int/float type already, and no null in the dataframe"
   ]
  },
  {
   "cell_type": "code",
   "execution_count": 28,
   "id": "f6672ba3",
   "metadata": {},
   "outputs": [
    {
     "data": {
      "text/plain": [
       "<AxesSubplot:>"
      ]
     },
     "execution_count": 28,
     "metadata": {},
     "output_type": "execute_result"
    },
    {
     "data": {
      "image/png": "[encoded data removed]",
      "text/plain": [
       "<Figure size 432x288 with 2 Axes>"
      ]
     },
     "metadata": {
      "needs_background": "light"
     },
     "output_type": "display_data"
    }
   ],
   "source": [
    "sns.heatmap(df.corr(),cmap=\"coolwarm\",linewidths=2) "
   ]
  },
  {
   "cell_type": "markdown",
   "id": "22a0d954",
   "metadata": {},
   "source": [
    "Observation: 1)Use heatmap to check correlation again since all columns are int/float now 2)Loan amount and ApplicantIncome/CoapplicantIncome are correlated. 3)Loan_Status and Credit_History are correlared"
   ]
  },
  {
   "cell_type": "code",
   "execution_count": 29,
   "id": "0f278006",
   "metadata": {},
   "outputs": [],
   "source": [
    "#function for removing outlier for loan amount, applicant and coapplicant income since outliers are present. 25% 75% Interquartile range applied\n",
    "def remove_outlier(df_in, col_name):\n",
    "    q1 = df_in[col_name].quantile(0.25)\n",
    "    q3 = df_in[col_name].quantile(0.75)\n",
    "    iqr = q3-q1 #Interquartile range\n",
    "    fence_low  = q1-1.5*iqr\n",
    "    fence_high = q3+1.5*iqr\n",
    "    df_out = df_in.loc[(df_in[col_name] > fence_low) & (df_in[col_name] < fence_high)]\n",
    "    return df_out"
   ]
  },
  {
   "cell_type": "code",
   "execution_count": 30,
   "id": "c0f36a35",
   "metadata": {},
   "outputs": [],
   "source": [
    "#remove outliers for loan amount\n",
    "df_la= remove_outlier(df,\"LoanAmount\") "
   ]
  },
  {
   "cell_type": "code",
   "execution_count": 31,
   "id": "d0d0f482",
   "metadata": {},
   "outputs": [
    {
     "data": {
      "text/plain": [
       "<AxesSubplot:xlabel='LoanAmount', ylabel='Count'>"
      ]
     },
     "execution_count": 31,
     "metadata": {},
     "output_type": "execute_result"
    },
    {
     "data": {
      "image/png": "[encoded data removed]",
      "text/plain": [
       "<Figure size 432x288 with 1 Axes>"
      ]
     },
     "metadata": {
      "needs_background": "light"
     },
     "output_type": "display_data"
    }
   ],
   "source": [
    "sns.histplot(data=df_la,x=\"LoanAmount\")"
   ]
  },
  {
   "cell_type": "code",
   "execution_count": 32,
   "id": "df8b93af",
   "metadata": {},
   "outputs": [],
   "source": [
    "#remove outlier for Applicantincome\n",
    "df_ai= remove_outlier(df_la,\"ApplicantIncome\")"
   ]
  },
  {
   "cell_type": "code",
   "execution_count": 33,
   "id": "4ee1bc90",
   "metadata": {},
   "outputs": [
    {
     "data": {
      "text/plain": [
       "<AxesSubplot:xlabel='ApplicantIncome', ylabel='Count'>"
      ]
     },
     "execution_count": 33,
     "metadata": {},
     "output_type": "execute_result"
    },
    {
     "data": {
      "image/png": "[encoded data removed]",
      "text/plain": [
       "<Figure size 432x288 with 1 Axes>"
      ]
     },
     "metadata": {
      "needs_background": "light"
     },
     "output_type": "display_data"
    }
   ],
   "source": [
    "sns.histplot(data=df_ai,x=\"ApplicantIncome\")"
   ]
  },
  {
   "cell_type": "code",
   "execution_count": 34,
   "id": "61911839",
   "metadata": {},
   "outputs": [],
   "source": [
    "#Remove outlier for CoapplicantIncome\n",
    "df_out= remove_outlier(df_ai,\"CoapplicantIncome\")"
   ]
  },
  {
   "cell_type": "code",
   "execution_count": 35,
   "id": "f7276522",
   "metadata": {},
   "outputs": [
    {
     "data": {
      "text/plain": [
       "<AxesSubplot:xlabel='CoapplicantIncome', ylabel='Count'>"
      ]
     },
     "execution_count": 35,
     "metadata": {},
     "output_type": "execute_result"
    },
    {
     "data": {
      "image/png": "[encoded data removed]",
      "text/plain": [
       "<Figure size 432x288 with 1 Axes>"
      ]
     },
     "metadata": {
      "needs_background": "light"
     },
     "output_type": "display_data"
    }
   ],
   "source": [
    "sns.histplot(data=df_out,x=\"CoapplicantIncome\")"
   ]
  },
  {
   "cell_type": "markdown",
   "id": "da012f56",
   "metadata": {},
   "source": [
    "Observations: 1)After all outliers removed, three columns are closer to normally distribution 2)This step will increase the accuracy for the models."
   ]
  },
  {
   "cell_type": "code",
   "execution_count": 36,
   "id": "3aaac668",
   "metadata": {},
   "outputs": [
    {
     "data": {
      "text/html": [
       "<div>\n",
       "<style scoped>\n",
       "    .dataframe tbody tr th:only-of-type {\n",
       "        vertical-align: middle;\n",
       "    }\n",
       "\n",
       "    .dataframe tbody tr th {\n",
       "        vertical-align: top;\n",
       "    }\n",
       "\n",
       "    .dataframe thead th {\n",
       "        text-align: right;\n",
       "    }\n",
       "</style>\n",
       "<table border=\"1\" class=\"dataframe\">\n",
       "  <thead>\n",
       "    <tr style=\"text-align: right;\">\n",
       "      <th></th>\n",
       "      <th>Gender</th>\n",
       "      <th>Married</th>\n",
       "      <th>Dependents</th>\n",
       "      <th>Education</th>\n",
       "      <th>Self_Employed</th>\n",
       "      <th>ApplicantIncome</th>\n",
       "      <th>CoapplicantIncome</th>\n",
       "      <th>LoanAmount</th>\n",
       "      <th>Loan_Amount_Term</th>\n",
       "      <th>Credit_History</th>\n",
       "      <th>Loan_Status</th>\n",
       "      <th>Property_Area_Semiurban</th>\n",
       "      <th>Property_Area_Urban</th>\n",
       "    </tr>\n",
       "  </thead>\n",
       "  <tbody>\n",
       "    <tr>\n",
       "      <th>count</th>\n",
       "      <td>519.000000</td>\n",
       "      <td>519.000000</td>\n",
       "      <td>519.000000</td>\n",
       "      <td>519.000000</td>\n",
       "      <td>519.000000</td>\n",
       "      <td>519.000000</td>\n",
       "      <td>519.000000</td>\n",
       "      <td>519.00000</td>\n",
       "      <td>519.000000</td>\n",
       "      <td>519.000000</td>\n",
       "      <td>519.000000</td>\n",
       "      <td>519.000000</td>\n",
       "      <td>519.000000</td>\n",
       "    </tr>\n",
       "    <tr>\n",
       "      <th>mean</th>\n",
       "      <td>0.813102</td>\n",
       "      <td>0.649326</td>\n",
       "      <td>0.718690</td>\n",
       "      <td>0.747592</td>\n",
       "      <td>0.107900</td>\n",
       "      <td>3881.377649</td>\n",
       "      <td>1356.822582</td>\n",
       "      <td>125.25979</td>\n",
       "      <td>343.352601</td>\n",
       "      <td>0.766859</td>\n",
       "      <td>0.693642</td>\n",
       "      <td>0.385356</td>\n",
       "      <td>0.317919</td>\n",
       "    </tr>\n",
       "    <tr>\n",
       "      <th>std</th>\n",
       "      <td>0.390206</td>\n",
       "      <td>0.477642</td>\n",
       "      <td>0.993151</td>\n",
       "      <td>0.434813</td>\n",
       "      <td>0.310553</td>\n",
       "      <td>1594.098060</td>\n",
       "      <td>1425.844869</td>\n",
       "      <td>43.37268</td>\n",
       "      <td>65.091656</td>\n",
       "      <td>0.423239</td>\n",
       "      <td>0.461425</td>\n",
       "      <td>0.487149</td>\n",
       "      <td>0.466117</td>\n",
       "    </tr>\n",
       "    <tr>\n",
       "      <th>min</th>\n",
       "      <td>0.000000</td>\n",
       "      <td>0.000000</td>\n",
       "      <td>0.000000</td>\n",
       "      <td>0.000000</td>\n",
       "      <td>0.000000</td>\n",
       "      <td>150.000000</td>\n",
       "      <td>0.000000</td>\n",
       "      <td>9.00000</td>\n",
       "      <td>12.000000</td>\n",
       "      <td>0.000000</td>\n",
       "      <td>0.000000</td>\n",
       "      <td>0.000000</td>\n",
       "      <td>0.000000</td>\n",
       "    </tr>\n",
       "    <tr>\n",
       "      <th>25%</th>\n",
       "      <td>1.000000</td>\n",
       "      <td>0.000000</td>\n",
       "      <td>0.000000</td>\n",
       "      <td>0.000000</td>\n",
       "      <td>0.000000</td>\n",
       "      <td>2717.500000</td>\n",
       "      <td>0.000000</td>\n",
       "      <td>99.50000</td>\n",
       "      <td>360.000000</td>\n",
       "      <td>1.000000</td>\n",
       "      <td>0.000000</td>\n",
       "      <td>0.000000</td>\n",
       "      <td>0.000000</td>\n",
       "    </tr>\n",
       "    <tr>\n",
       "      <th>50%</th>\n",
       "      <td>1.000000</td>\n",
       "      <td>1.000000</td>\n",
       "      <td>0.000000</td>\n",
       "      <td>1.000000</td>\n",
       "      <td>0.000000</td>\n",
       "      <td>3541.000000</td>\n",
       "      <td>1330.000000</td>\n",
       "      <td>123.00000</td>\n",
       "      <td>360.000000</td>\n",
       "      <td>1.000000</td>\n",
       "      <td>1.000000</td>\n",
       "      <td>0.000000</td>\n",
       "      <td>0.000000</td>\n",
       "    </tr>\n",
       "    <tr>\n",
       "      <th>75%</th>\n",
       "      <td>1.000000</td>\n",
       "      <td>1.000000</td>\n",
       "      <td>1.000000</td>\n",
       "      <td>1.000000</td>\n",
       "      <td>0.000000</td>\n",
       "      <td>4715.500000</td>\n",
       "      <td>2227.500000</td>\n",
       "      <td>150.00000</td>\n",
       "      <td>360.000000</td>\n",
       "      <td>1.000000</td>\n",
       "      <td>1.000000</td>\n",
       "      <td>1.000000</td>\n",
       "      <td>1.000000</td>\n",
       "    </tr>\n",
       "    <tr>\n",
       "      <th>max</th>\n",
       "      <td>1.000000</td>\n",
       "      <td>1.000000</td>\n",
       "      <td>3.000000</td>\n",
       "      <td>1.000000</td>\n",
       "      <td>1.000000</td>\n",
       "      <td>8799.000000</td>\n",
       "      <td>5701.000000</td>\n",
       "      <td>259.00000</td>\n",
       "      <td>480.000000</td>\n",
       "      <td>1.000000</td>\n",
       "      <td>1.000000</td>\n",
       "      <td>1.000000</td>\n",
       "      <td>1.000000</td>\n",
       "    </tr>\n",
       "  </tbody>\n",
       "</table>\n",
       "</div>"
      ],
      "text/plain": [
       "           Gender     Married  Dependents   Education  Self_Employed  \\\n",
       "count  519.000000  519.000000  519.000000  519.000000     519.000000   \n",
       "mean     0.813102    0.649326    0.718690    0.747592       0.107900   \n",
       "std      0.390206    0.477642    0.993151    0.434813       0.310553   \n",
       "min      0.000000    0.000000    0.000000    0.000000       0.000000   \n",
       "25%      1.000000    0.000000    0.000000    0.000000       0.000000   \n",
       "50%      1.000000    1.000000    0.000000    1.000000       0.000000   \n",
       "75%      1.000000    1.000000    1.000000    1.000000       0.000000   \n",
       "max      1.000000    1.000000    3.000000    1.000000       1.000000   \n",
       "\n",
       "       ApplicantIncome  CoapplicantIncome  LoanAmount  Loan_Amount_Term  \\\n",
       "count       519.000000         519.000000   519.00000        519.000000   \n",
       "mean       3881.377649        1356.822582   125.25979        343.352601   \n",
       "std        1594.098060        1425.844869    43.37268         65.091656   \n",
       "min         150.000000           0.000000     9.00000         12.000000   \n",
       "25%        2717.500000           0.000000    99.50000        360.000000   \n",
       "50%        3541.000000        1330.000000   123.00000        360.000000   \n",
       "75%        4715.500000        2227.500000   150.00000        360.000000   \n",
       "max        8799.000000        5701.000000   259.00000        480.000000   \n",
       "\n",
       "       Credit_History  Loan_Status  Property_Area_Semiurban  \\\n",
       "count      519.000000   519.000000               519.000000   \n",
       "mean         0.766859     0.693642                 0.385356   \n",
       "std          0.423239     0.461425                 0.487149   \n",
       "min          0.000000     0.000000                 0.000000   \n",
       "25%          1.000000     0.000000                 0.000000   \n",
       "50%          1.000000     1.000000                 0.000000   \n",
       "75%          1.000000     1.000000                 1.000000   \n",
       "max          1.000000     1.000000                 1.000000   \n",
       "\n",
       "       Property_Area_Urban  \n",
       "count           519.000000  \n",
       "mean              0.317919  \n",
       "std               0.466117  \n",
       "min               0.000000  \n",
       "25%               0.000000  \n",
       "50%               0.000000  \n",
       "75%               1.000000  \n",
       "max               1.000000  "
      ]
     },
     "execution_count": 36,
     "metadata": {},
     "output_type": "execute_result"
    }
   ],
   "source": [
    "df_out.describe()"
   ]
  },
  {
   "cell_type": "markdown",
   "id": "ae0aa8af",
   "metadata": {},
   "source": [
    "Observations: 1)Now 591 rows, 23 rows reduced from original 614 entries, 3.75% removal considered acceptable. 2)ApplicantIncome,CoapplicantIncome and LoanAmount are still right skewed but closer to normally distributed after outliers removal."
   ]
  },
  {
   "cell_type": "code",
   "execution_count": 37,
   "id": "878ff595",
   "metadata": {},
   "outputs": [
    {
     "name": "stdout",
     "output_type": "stream",
     "text": [
      "(360, 13)\n",
      "(159, 13)\n"
     ]
    }
   ],
   "source": [
    "#upsampling the loan status \"N\", first check how many rows needed to be increase\n",
    "df_out_approval =df_out[df_out[\"Loan_Status\"]==1]\n",
    "df_out_reject =df_out[df_out[\"Loan_Status\"]==0]\n",
    "print(df_out_approval.shape)\n",
    "print(df_out_reject.shape)"
   ]
  },
  {
   "cell_type": "markdown",
   "id": "fc8409d8",
   "metadata": {},
   "source": [
    "\"Y\" has 360 rows \"N\" has 159 rows, 201 rows upsampling for Loan_Status \"N\" reuqired."
   ]
  },
  {
   "cell_type": "code",
   "execution_count": 38,
   "id": "2aa41729",
   "metadata": {},
   "outputs": [
    {
     "name": "stdout",
     "output_type": "stream",
     "text": [
      "<class 'pandas.core.frame.DataFrame'>\n",
      "Int64Index: 360 entries, 256 to 209\n",
      "Data columns (total 13 columns):\n",
      " #   Column                   Non-Null Count  Dtype  \n",
      "---  ------                   --------------  -----  \n",
      " 0   Gender                   360 non-null    int64  \n",
      " 1   Married                  360 non-null    int64  \n",
      " 2   Dependents               360 non-null    int64  \n",
      " 3   Education                360 non-null    int64  \n",
      " 4   Self_Employed            360 non-null    int64  \n",
      " 5   ApplicantIncome          360 non-null    int64  \n",
      " 6   CoapplicantIncome        360 non-null    float64\n",
      " 7   LoanAmount               360 non-null    float64\n",
      " 8   Loan_Amount_Term         360 non-null    float64\n",
      " 9   Credit_History           360 non-null    float64\n",
      " 10  Loan_Status              360 non-null    int64  \n",
      " 11  Property_Area_Semiurban  360 non-null    uint8  \n",
      " 12  Property_Area_Urban      360 non-null    uint8  \n",
      "dtypes: float64(4), int64(7), uint8(2)\n",
      "memory usage: 34.5 KB\n"
     ]
    }
   ],
   "source": [
    "#use the len to match the loan status \"Y\", then check if the \"N\" also has 360 rows\n",
    "from sklearn.utils import resample\n",
    "reject_upsample = resample(df_out_reject,replace=True,n_samples=len(df_out_approval))\n",
    "reject_upsample.info()"
   ]
  },
  {
   "cell_type": "code",
   "execution_count": 39,
   "id": "8e83702c",
   "metadata": {},
   "outputs": [
    {
     "data": {
      "text/html": [
       "<div>\n",
       "<style scoped>\n",
       "    .dataframe tbody tr th:only-of-type {\n",
       "        vertical-align: middle;\n",
       "    }\n",
       "\n",
       "    .dataframe tbody tr th {\n",
       "        vertical-align: top;\n",
       "    }\n",
       "\n",
       "    .dataframe thead th {\n",
       "        text-align: right;\n",
       "    }\n",
       "</style>\n",
       "<table border=\"1\" class=\"dataframe\">\n",
       "  <thead>\n",
       "    <tr style=\"text-align: right;\">\n",
       "      <th></th>\n",
       "      <th>Gender</th>\n",
       "      <th>Married</th>\n",
       "      <th>Dependents</th>\n",
       "      <th>Education</th>\n",
       "      <th>Self_Employed</th>\n",
       "      <th>ApplicantIncome</th>\n",
       "      <th>CoapplicantIncome</th>\n",
       "      <th>LoanAmount</th>\n",
       "      <th>Loan_Amount_Term</th>\n",
       "      <th>Credit_History</th>\n",
       "      <th>Loan_Status</th>\n",
       "      <th>Property_Area_Semiurban</th>\n",
       "      <th>Property_Area_Urban</th>\n",
       "    </tr>\n",
       "  </thead>\n",
       "  <tbody>\n",
       "    <tr>\n",
       "      <th>count</th>\n",
       "      <td>720.000000</td>\n",
       "      <td>720.000000</td>\n",
       "      <td>720.000000</td>\n",
       "      <td>720.000000</td>\n",
       "      <td>720.000000</td>\n",
       "      <td>720.000000</td>\n",
       "      <td>720.000000</td>\n",
       "      <td>720.000000</td>\n",
       "      <td>720.000000</td>\n",
       "      <td>720.000000</td>\n",
       "      <td>720.000000</td>\n",
       "      <td>720.000000</td>\n",
       "      <td>720.000000</td>\n",
       "    </tr>\n",
       "    <tr>\n",
       "      <th>mean</th>\n",
       "      <td>0.816667</td>\n",
       "      <td>0.655556</td>\n",
       "      <td>0.755556</td>\n",
       "      <td>0.737500</td>\n",
       "      <td>0.119444</td>\n",
       "      <td>3930.802778</td>\n",
       "      <td>1303.502667</td>\n",
       "      <td>126.194792</td>\n",
       "      <td>341.983333</td>\n",
       "      <td>0.684722</td>\n",
       "      <td>0.500000</td>\n",
       "      <td>0.362500</td>\n",
       "      <td>0.326389</td>\n",
       "    </tr>\n",
       "    <tr>\n",
       "      <th>std</th>\n",
       "      <td>0.387209</td>\n",
       "      <td>0.475517</td>\n",
       "      <td>1.012425</td>\n",
       "      <td>0.440299</td>\n",
       "      <td>0.324536</td>\n",
       "      <td>1609.520761</td>\n",
       "      <td>1435.020692</td>\n",
       "      <td>41.901666</td>\n",
       "      <td>63.051735</td>\n",
       "      <td>0.464949</td>\n",
       "      <td>0.500348</td>\n",
       "      <td>0.481056</td>\n",
       "      <td>0.469217</td>\n",
       "    </tr>\n",
       "    <tr>\n",
       "      <th>min</th>\n",
       "      <td>0.000000</td>\n",
       "      <td>0.000000</td>\n",
       "      <td>0.000000</td>\n",
       "      <td>0.000000</td>\n",
       "      <td>0.000000</td>\n",
       "      <td>150.000000</td>\n",
       "      <td>0.000000</td>\n",
       "      <td>9.000000</td>\n",
       "      <td>12.000000</td>\n",
       "      <td>0.000000</td>\n",
       "      <td>0.000000</td>\n",
       "      <td>0.000000</td>\n",
       "      <td>0.000000</td>\n",
       "    </tr>\n",
       "    <tr>\n",
       "      <th>25%</th>\n",
       "      <td>1.000000</td>\n",
       "      <td>0.000000</td>\n",
       "      <td>0.000000</td>\n",
       "      <td>0.000000</td>\n",
       "      <td>0.000000</td>\n",
       "      <td>2769.000000</td>\n",
       "      <td>0.000000</td>\n",
       "      <td>100.000000</td>\n",
       "      <td>360.000000</td>\n",
       "      <td>0.000000</td>\n",
       "      <td>0.000000</td>\n",
       "      <td>0.000000</td>\n",
       "      <td>0.000000</td>\n",
       "    </tr>\n",
       "    <tr>\n",
       "      <th>50%</th>\n",
       "      <td>1.000000</td>\n",
       "      <td>1.000000</td>\n",
       "      <td>0.000000</td>\n",
       "      <td>1.000000</td>\n",
       "      <td>0.000000</td>\n",
       "      <td>3598.000000</td>\n",
       "      <td>1211.500000</td>\n",
       "      <td>123.000000</td>\n",
       "      <td>360.000000</td>\n",
       "      <td>1.000000</td>\n",
       "      <td>0.500000</td>\n",
       "      <td>0.000000</td>\n",
       "      <td>0.000000</td>\n",
       "    </tr>\n",
       "    <tr>\n",
       "      <th>75%</th>\n",
       "      <td>1.000000</td>\n",
       "      <td>1.000000</td>\n",
       "      <td>2.000000</td>\n",
       "      <td>1.000000</td>\n",
       "      <td>0.000000</td>\n",
       "      <td>4750.000000</td>\n",
       "      <td>2209.250000</td>\n",
       "      <td>148.000000</td>\n",
       "      <td>360.000000</td>\n",
       "      <td>1.000000</td>\n",
       "      <td>1.000000</td>\n",
       "      <td>1.000000</td>\n",
       "      <td>1.000000</td>\n",
       "    </tr>\n",
       "    <tr>\n",
       "      <th>max</th>\n",
       "      <td>1.000000</td>\n",
       "      <td>1.000000</td>\n",
       "      <td>3.000000</td>\n",
       "      <td>1.000000</td>\n",
       "      <td>1.000000</td>\n",
       "      <td>8799.000000</td>\n",
       "      <td>5701.000000</td>\n",
       "      <td>259.000000</td>\n",
       "      <td>480.000000</td>\n",
       "      <td>1.000000</td>\n",
       "      <td>1.000000</td>\n",
       "      <td>1.000000</td>\n",
       "      <td>1.000000</td>\n",
       "    </tr>\n",
       "  </tbody>\n",
       "</table>\n",
       "</div>"
      ],
      "text/plain": [
       "           Gender     Married  Dependents   Education  Self_Employed  \\\n",
       "count  720.000000  720.000000  720.000000  720.000000     720.000000   \n",
       "mean     0.816667    0.655556    0.755556    0.737500       0.119444   \n",
       "std      0.387209    0.475517    1.012425    0.440299       0.324536   \n",
       "min      0.000000    0.000000    0.000000    0.000000       0.000000   \n",
       "25%      1.000000    0.000000    0.000000    0.000000       0.000000   \n",
       "50%      1.000000    1.000000    0.000000    1.000000       0.000000   \n",
       "75%      1.000000    1.000000    2.000000    1.000000       0.000000   \n",
       "max      1.000000    1.000000    3.000000    1.000000       1.000000   \n",
       "\n",
       "       ApplicantIncome  CoapplicantIncome  LoanAmount  Loan_Amount_Term  \\\n",
       "count       720.000000         720.000000  720.000000        720.000000   \n",
       "mean       3930.802778        1303.502667  126.194792        341.983333   \n",
       "std        1609.520761        1435.020692   41.901666         63.051735   \n",
       "min         150.000000           0.000000    9.000000         12.000000   \n",
       "25%        2769.000000           0.000000  100.000000        360.000000   \n",
       "50%        3598.000000        1211.500000  123.000000        360.000000   \n",
       "75%        4750.000000        2209.250000  148.000000        360.000000   \n",
       "max        8799.000000        5701.000000  259.000000        480.000000   \n",
       "\n",
       "       Credit_History  Loan_Status  Property_Area_Semiurban  \\\n",
       "count      720.000000   720.000000               720.000000   \n",
       "mean         0.684722     0.500000                 0.362500   \n",
       "std          0.464949     0.500348                 0.481056   \n",
       "min          0.000000     0.000000                 0.000000   \n",
       "25%          0.000000     0.000000                 0.000000   \n",
       "50%          1.000000     0.500000                 0.000000   \n",
       "75%          1.000000     1.000000                 1.000000   \n",
       "max          1.000000     1.000000                 1.000000   \n",
       "\n",
       "       Property_Area_Urban  \n",
       "count           720.000000  \n",
       "mean              0.326389  \n",
       "std               0.469217  \n",
       "min               0.000000  \n",
       "25%               0.000000  \n",
       "50%               0.000000  \n",
       "75%               1.000000  \n",
       "max               1.000000  "
      ]
     },
     "execution_count": 39,
     "metadata": {},
     "output_type": "execute_result"
    }
   ],
   "source": [
    "# now we combine both datafram to create our final dataframe\n",
    "df_out_final = pd.concat([df_out_approval, reject_upsample])\n",
    "df_out_final.describe()"
   ]
  },
  {
   "cell_type": "markdown",
   "id": "6c03a55e",
   "metadata": {},
   "source": [
    "Observations: 1)We have all columns data type are all int/float. 2)Dataset is balanced with equal loan status \"Y\" & \"N\" 3)Total entries 720 now, which is greater then original dataset 614 entries."
   ]
  },
  {
   "cell_type": "markdown",
   "id": "7c15d8ef",
   "metadata": {},
   "source": [
    "Section 3:Machine learning by logistic regression, K-NearestNeighbor, decision tree, random forest and Support Vector Classifier"
   ]
  },
  {
   "cell_type": "code",
   "execution_count": 40,
   "id": "b1ffa36c",
   "metadata": {},
   "outputs": [],
   "source": [
    "from sklearn.model_selection import train_test_split"
   ]
  },
  {
   "cell_type": "code",
   "execution_count": 41,
   "id": "23c452c7",
   "metadata": {},
   "outputs": [],
   "source": [
    "X=df_out_final.drop(\"Loan_Status\",axis=1,inplace=False)\n",
    "y=df_out_final[\"Loan_Status\"]\n",
    "X_train, X_test, y_train, y_test = train_test_split(X, y, test_size=0.3)"
   ]
  },
  {
   "cell_type": "code",
   "execution_count": 42,
   "id": "3c054e2d",
   "metadata": {},
   "outputs": [],
   "source": [
    "from sklearn.linear_model import LogisticRegression\n",
    "from sklearn.neighbors import KNeighborsClassifier\n",
    "from sklearn.ensemble import RandomForestClassifier\n",
    "from sklearn.tree import DecisionTreeClassifier\n",
    "from sklearn.svm import SVC\n",
    "from sklearn.metrics import classification_report,confusion_matrix,accuracy_score"
   ]
  },
  {
   "cell_type": "code",
   "execution_count": 43,
   "id": "1a35de76",
   "metadata": {},
   "outputs": [
    {
     "data": {
      "text/plain": [
       "LogisticRegression(max_iter=400)"
      ]
     },
     "execution_count": 43,
     "metadata": {},
     "output_type": "execute_result"
    }
   ],
   "source": [
    "logmodel = LogisticRegression(max_iter=400)\n",
    "logmodel.fit(X_train,y_train)"
   ]
  },
  {
   "cell_type": "code",
   "execution_count": 44,
   "id": "4f509748",
   "metadata": {},
   "outputs": [],
   "source": [
    "pred_log = logmodel.predict(X_test)"
   ]
  },
  {
   "cell_type": "code",
   "execution_count": 45,
   "id": "7c67858a",
   "metadata": {},
   "outputs": [
    {
     "name": "stdout",
     "output_type": "stream",
     "text": [
      "              precision    recall  f1-score   support\n",
      "\n",
      "           0       0.76      0.61      0.68       116\n",
      "           1       0.63      0.78      0.70       100\n",
      "\n",
      "    accuracy                           0.69       216\n",
      "   macro avg       0.70      0.70      0.69       216\n",
      "weighted avg       0.70      0.69      0.69       216\n",
      "\n"
     ]
    }
   ],
   "source": [
    "print(classification_report(y_test,pred_log))"
   ]
  },
  {
   "cell_type": "markdown",
   "id": "3a83cc54",
   "metadata": {},
   "source": [
    "Observation: 1)Precision 63% for class 1 (loan approval) and recall for class 0 (loan reject) only 61%. 2)The above shows the model does not perform well espically the recall for class 0 61% indicates model only predicred 61% of actual application should not being approved."
   ]
  },
  {
   "cell_type": "code",
   "execution_count": 46,
   "id": "1cb3b1f4",
   "metadata": {},
   "outputs": [],
   "source": [
    "# try to predict which K value for KNN model will preduce least error rate\n",
    "error_rate = []\n",
    "\n",
    "for i in range(1,21):\n",
    "    \n",
    "    knn = KNeighborsClassifier(n_neighbors=i)\n",
    "    knn.fit(X_train,y_train)\n",
    "    pred_i = knn.predict(X_test)\n",
    "    error_rate.append(np.mean(pred_i != y_test))"
   ]
  },
  {
   "cell_type": "code",
   "execution_count": 47,
   "id": "c95389f5",
   "metadata": {},
   "outputs": [
    {
     "data": {
      "text/plain": [
       "Text(0, 0.5, 'Error Rate')"
      ]
     },
     "execution_count": 47,
     "metadata": {},
     "output_type": "execute_result"
    },
    {
     "data": {
      "image/png": "[encoded data removed]",
      "text/plain": [
       "<Figure size 720x432 with 1 Axes>"
      ]
     },
     "metadata": {
      "needs_background": "light"
     },
     "output_type": "display_data"
    }
   ],
   "source": [
    "plt.figure(figsize=(10,6))\n",
    "plt.plot(range(1,21),error_rate,color='blue', linestyle='dashed', marker='o',\n",
    "         markerfacecolor='red', markersize=10)\n",
    "plt.title('Error Rate vs. K Value')\n",
    "plt.xlabel('K')\n",
    "plt.ylabel('Error Rate')"
   ]
  },
  {
   "cell_type": "code",
   "execution_count": 48,
   "id": "852bf543",
   "metadata": {},
   "outputs": [],
   "source": [
    "knn = KNeighborsClassifier(n_neighbors=2)"
   ]
  },
  {
   "cell_type": "code",
   "execution_count": 49,
   "id": "9a7c190e",
   "metadata": {},
   "outputs": [
    {
     "data": {
      "text/plain": [
       "KNeighborsClassifier(n_neighbors=2)"
      ]
     },
     "execution_count": 49,
     "metadata": {},
     "output_type": "execute_result"
    }
   ],
   "source": [
    "knn.fit(X_train,y_train)"
   ]
  },
  {
   "cell_type": "code",
   "execution_count": 50,
   "id": "908b0f9e",
   "metadata": {},
   "outputs": [],
   "source": [
    "pred_knn = knn.predict(X_test)"
   ]
  },
  {
   "cell_type": "code",
   "execution_count": 51,
   "id": "73fba8ac",
   "metadata": {},
   "outputs": [
    {
     "name": "stdout",
     "output_type": "stream",
     "text": [
      "              precision    recall  f1-score   support\n",
      "\n",
      "           0       0.72      0.89      0.79       116\n",
      "           1       0.82      0.59      0.69       100\n",
      "\n",
      "    accuracy                           0.75       216\n",
      "   macro avg       0.77      0.74      0.74       216\n",
      "weighted avg       0.76      0.75      0.74       216\n",
      "\n"
     ]
    }
   ],
   "source": [
    "print(classification_report(y_test,pred_knn))"
   ]
  },
  {
   "cell_type": "markdown",
   "id": "cb7c5562",
   "metadata": {},
   "source": [
    "Observations: 1)KNN model does not perform well since precision for class 0 only 72% and recall for class 1 only 59% 2)Not good model for our purpose"
   ]
  },
  {
   "cell_type": "code",
   "execution_count": 52,
   "id": "1c0b2e41",
   "metadata": {},
   "outputs": [],
   "source": [
    "dtree = DecisionTreeClassifier()"
   ]
  },
  {
   "cell_type": "code",
   "execution_count": 53,
   "id": "9cdb9033",
   "metadata": {},
   "outputs": [
    {
     "data": {
      "text/plain": [
       "DecisionTreeClassifier()"
      ]
     },
     "execution_count": 53,
     "metadata": {},
     "output_type": "execute_result"
    }
   ],
   "source": [
    "dtree.fit(X_train,y_train)"
   ]
  },
  {
   "cell_type": "code",
   "execution_count": 54,
   "id": "6746dd25",
   "metadata": {},
   "outputs": [],
   "source": [
    "pred_dtree = dtree.predict(X_test)"
   ]
  },
  {
   "cell_type": "code",
   "execution_count": 55,
   "id": "04bfc16d",
   "metadata": {},
   "outputs": [
    {
     "name": "stdout",
     "output_type": "stream",
     "text": [
      "              precision    recall  f1-score   support\n",
      "\n",
      "           0       0.85      0.95      0.89       116\n",
      "           1       0.93      0.80      0.86       100\n",
      "\n",
      "    accuracy                           0.88       216\n",
      "   macro avg       0.89      0.87      0.88       216\n",
      "weighted avg       0.89      0.88      0.88       216\n",
      "\n"
     ]
    }
   ],
   "source": [
    "print(classification_report(y_test,pred_dtree))"
   ]
  },
  {
   "cell_type": "markdown",
   "id": "e511b2cb",
   "metadata": {},
   "source": [
    "Observations: 1)Decision Tree performs well with the lowest rate 80% for recall class 1. 2)Can predict actually non-qualified application up to 95%."
   ]
  },
  {
   "cell_type": "code",
   "execution_count": 56,
   "id": "aa74137f",
   "metadata": {},
   "outputs": [],
   "source": [
    "rfc = RandomForestClassifier()"
   ]
  },
  {
   "cell_type": "code",
   "execution_count": 57,
   "id": "04df24ee",
   "metadata": {},
   "outputs": [
    {
     "data": {
      "text/plain": [
       "RandomForestClassifier()"
      ]
     },
     "execution_count": 57,
     "metadata": {},
     "output_type": "execute_result"
    }
   ],
   "source": [
    "rfc.fit(X_train,y_train)"
   ]
  },
  {
   "cell_type": "code",
   "execution_count": 58,
   "id": "bd1c3a06",
   "metadata": {},
   "outputs": [],
   "source": [
    "pred_rfc = rfc.predict(X_test)"
   ]
  },
  {
   "cell_type": "code",
   "execution_count": 59,
   "id": "5c842ddb",
   "metadata": {},
   "outputs": [
    {
     "name": "stdout",
     "output_type": "stream",
     "text": [
      "              precision    recall  f1-score   support\n",
      "\n",
      "           0       0.85      0.93      0.89       116\n",
      "           1       0.91      0.81      0.86       100\n",
      "\n",
      "    accuracy                           0.88       216\n",
      "   macro avg       0.88      0.87      0.87       216\n",
      "weighted avg       0.88      0.88      0.87       216\n",
      "\n"
     ]
    }
   ],
   "source": [
    "print(classification_report(y_test,pred_rfc))"
   ]
  },
  {
   "cell_type": "markdown",
   "id": "aa0111e8",
   "metadata": {},
   "source": [
    "Observations: 1)Random Forest performs quite well since all rate are above 80%. 2)Can predict actuall non-qualified application 93%(recall class 0)."
   ]
  },
  {
   "cell_type": "code",
   "execution_count": 60,
   "id": "6a807e74",
   "metadata": {},
   "outputs": [],
   "source": [
    "svm_model = SVC()"
   ]
  },
  {
   "cell_type": "code",
   "execution_count": 61,
   "id": "6835848d",
   "metadata": {},
   "outputs": [
    {
     "data": {
      "text/plain": [
       "SVC()"
      ]
     },
     "execution_count": 61,
     "metadata": {},
     "output_type": "execute_result"
    }
   ],
   "source": [
    "svm_model.fit(X_train,y_train)"
   ]
  },
  {
   "cell_type": "code",
   "execution_count": 62,
   "id": "225cc155",
   "metadata": {},
   "outputs": [],
   "source": [
    "pred_svm = svm_model.predict(X_test)"
   ]
  },
  {
   "cell_type": "code",
   "execution_count": 63,
   "id": "bfdf654d",
   "metadata": {},
   "outputs": [
    {
     "name": "stdout",
     "output_type": "stream",
     "text": [
      "              precision    recall  f1-score   support\n",
      "\n",
      "           0       0.64      0.58      0.61       116\n",
      "           1       0.56      0.62      0.59       100\n",
      "\n",
      "    accuracy                           0.60       216\n",
      "   macro avg       0.60      0.60      0.60       216\n",
      "weighted avg       0.60      0.60      0.60       216\n",
      "\n"
     ]
    }
   ],
   "source": [
    "print(classification_report(y_test,pred_svm))"
   ]
  },
  {
   "cell_type": "markdown",
   "id": "6c61219f",
   "metadata": {},
   "source": [
    "Observations: 1)SVM model does not perform well since both precision and recall rate are quite low 2)Not good model for our purpose espically the recall for class 0 only 58%, which indicates the model can only predict actual non-qualified application 58% only."
   ]
  },
  {
   "cell_type": "markdown",
   "id": "6544cb1e",
   "metadata": {},
   "source": [
    "Section 4:Review, compare and select the best model"
   ]
  },
  {
   "cell_type": "code",
   "execution_count": 64,
   "id": "f3890617",
   "metadata": {},
   "outputs": [
    {
     "data": {
      "text/html": [
       "<div>\n",
       "<style scoped>\n",
       "    .dataframe tbody tr th:only-of-type {\n",
       "        vertical-align: middle;\n",
       "    }\n",
       "\n",
       "    .dataframe tbody tr th {\n",
       "        vertical-align: top;\n",
       "    }\n",
       "\n",
       "    .dataframe thead th {\n",
       "        text-align: right;\n",
       "    }\n",
       "</style>\n",
       "<table border=\"1\" class=\"dataframe\">\n",
       "  <thead>\n",
       "    <tr style=\"text-align: right;\">\n",
       "      <th></th>\n",
       "      <th>Model</th>\n",
       "      <th>Accuracy(%)</th>\n",
       "    </tr>\n",
       "  </thead>\n",
       "  <tbody>\n",
       "    <tr>\n",
       "      <th>2</th>\n",
       "      <td>Decision Tree</td>\n",
       "      <td>88.0</td>\n",
       "    </tr>\n",
       "    <tr>\n",
       "      <th>3</th>\n",
       "      <td>Random Forest</td>\n",
       "      <td>88.0</td>\n",
       "    </tr>\n",
       "    <tr>\n",
       "      <th>0</th>\n",
       "      <td>K-Nearest Neighbors</td>\n",
       "      <td>75.0</td>\n",
       "    </tr>\n",
       "    <tr>\n",
       "      <th>1</th>\n",
       "      <td>Logistic Regression</td>\n",
       "      <td>69.0</td>\n",
       "    </tr>\n",
       "    <tr>\n",
       "      <th>4</th>\n",
       "      <td>SVC</td>\n",
       "      <td>60.0</td>\n",
       "    </tr>\n",
       "  </tbody>\n",
       "</table>\n",
       "</div>"
      ],
      "text/plain": [
       "                 Model  Accuracy(%)\n",
       "2        Decision Tree         88.0\n",
       "3        Random Forest         88.0\n",
       "0  K-Nearest Neighbors         75.0\n",
       "1  Logistic Regression         69.0\n",
       "4                  SVC         60.0"
      ]
     },
     "execution_count": 64,
     "metadata": {},
     "output_type": "execute_result"
    }
   ],
   "source": [
    "log_score = round(accuracy_score(y_test,pred_log),2)\n",
    "knn_score = round(accuracy_score(y_test,pred_knn),2)\n",
    "dtree_score = round(accuracy_score(y_test,pred_dtree),2)\n",
    "rfc_score = round(accuracy_score(y_test,pred_rfc),2)\n",
    "svm_score = round(accuracy_score(y_test,pred_svm),2)\n",
    "\n",
    "tab_compare = pd.DataFrame({'Model': ['K-Nearest Neighbors','Logistic Regression','Decision Tree','Random Forest','SVC'], \n",
    "                        'Accuracy(%)': [knn_score*100, log_score*100, dtree_score*100, rfc_score*100, svm_score *100]})\n",
    "tab_compare.sort_values(by='Accuracy(%)', ascending=False)"
   ]
  },
  {
   "cell_type": "markdown",
   "id": "de25c8b4",
   "metadata": {},
   "source": [
    "Observation (Summary of all models) 1)Decision Tree performs best as it has 88% accuracy rate and high precision&recall rate 2)Random Forest also performs quite well it also has 88% accuracy rate with almost identical precision&recall rate. 3)Rest of models perform poor and should be used as they may incorrectly predict the actual non-qualified application as \"qualifed\" application and approval the loan, which will hurt the lender."
   ]
  },
  {
   "cell_type": "markdown",
   "id": "05754759",
   "metadata": {},
   "source": [
    "Section 5:Show the feature of importance for the best model(s)"
   ]
  },
  {
   "cell_type": "code",
   "execution_count": 65,
   "id": "109fbbfc",
   "metadata": {},
   "outputs": [
    {
     "data": {
      "text/plain": [
       "<AxesSubplot:>"
      ]
     },
     "execution_count": 65,
     "metadata": {},
     "output_type": "execute_result"
    },
    {
     "data": {
      "image/png": "[encoded data removed]",
      "text/plain": [
       "<Figure size 648x432 with 1 Axes>"
      ]
     },
     "metadata": {
      "needs_background": "light"
     },
     "output_type": "display_data"
    }
   ],
   "source": [
    "#Feature Importance for Decision Tree Model\n",
    "dtree_importance = pd.Series(dtree.feature_importances_,\n",
    "                       index = X_train.columns.values)\n",
    "dtree_importance.nlargest(5).plot(kind = 'bar',\n",
    "                            figsize = (9,6))"
   ]
  },
  {
   "cell_type": "code",
   "execution_count": 66,
   "id": "0d73bcd5",
   "metadata": {},
   "outputs": [
    {
     "data": {
      "text/plain": [
       "<AxesSubplot:>"
      ]
     },
     "execution_count": 66,
     "metadata": {},
     "output_type": "execute_result"
    },
    {
     "data": {
      "image/png": "[encoded data removed]",
      "text/plain": [
       "<Figure size 648x432 with 1 Axes>"
      ]
     },
     "metadata": {
      "needs_background": "light"
     },
     "output_type": "display_data"
    }
   ],
   "source": [
    "#Feature Importance for Random Forest Model\n",
    "rfc_importance = pd.Series(rfc.feature_importances_,\n",
    "                       index = X_train.columns.values)\n",
    "rfc_importance.nlargest(5).plot(kind = 'bar',\n",
    "                            figsize = (9,6))"
   ]
  },
  {
   "cell_type": "markdown",
   "id": "d24e92bf",
   "metadata": {},
   "source": [
    "Observation: \n",
    "1)Both Dtree and RFC show top 1 feature as ApplicantIncome with credit history as second important features \n",
    "2)Loan Amout and co-applicant inocme with weight more than 10% each \n",
    "3)The rest of features do not contribute that much importance for both models. So banks may consider to focus on the features with more than 10% weight during assessment while disregarding other less importnant features to improve is efficiency. \n",
    "\n",
    "End of the project, Thank you for reading."
   ]
  },
  {
   "cell_type": "code",
   "execution_count": null,
   "id": "35640648",
   "metadata": {},
   "outputs": [],
   "source": []
  }
 ],
 "metadata": {
  "kernelspec": {
   "display_name": "Python 3 (ipykernel)",
   "language": "python",
   "name": "python3"
  },
  "language_info": {
   "codemirror_mode": {
    "name": "ipython",
    "version": 3
   },
   "file_extension": ".py",
   "mimetype": "text/x-python",
   "name": "python",
   "nbconvert_exporter": "python",
   "pygments_lexer": "ipython3",
   "version": "3.9.12"
  }
 },
 "nbformat": 4,
 "nbformat_minor": 5
}
